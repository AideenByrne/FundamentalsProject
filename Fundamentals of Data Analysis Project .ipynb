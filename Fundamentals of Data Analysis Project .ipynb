{
 "cells": [
  {
   "cell_type": "markdown",
   "metadata": {},
   "source": [
    "## Investigating the box plot"
   ]
  },
  {
   "cell_type": "markdown",
   "metadata": {},
   "source": [
    "A box plot is a type of graph that is used to display patterns in numerical datasets by basing them on a five number summary -\n",
    "[minimum, first quartile, median, third quartile, and maximum](http://www.physics.csbsju.edu/stats/box2.html) and is so called because of the box shape it is displayed in.  It was invented by the American mathematician [John W. Tukey](https://en.wikipedia.org/wiki/John_Tukey) and is also known as the box-and-whisker plot.\n",
    "\n",
    "![seaborn-boxplot-2.png](seaborn-boxplot-2.png)\n",
    "*Image credit https://seaborn.pydata.org/generated/seaborn.boxplot.html*\n",
    "\n",
    "Box plots can summarise [data from multiple sources and display the results in a single graph](http://asq.org/learn-about-quality/data-collection-analysis-tools/overview/box-whisker-plot.html), particularly when you have multiple data sets from independent sources that relate to each other in some way. [The Seaborn tutorial](https://seaborn.pydata.org/tutorial/categorical.html#categorical-tutorial) describes the box plot as a \"categorical distribution plot\" which refers to it's function of providing information about the distribution of values of each category it visualises.  [This paper](http://vita.had.co.nz/papers/boxplots.pdf), which charts the evolution of the box plot over 40 years since Tukey developed it, details how it has \"become one of the most frequently used statistical graphics,and is one of the few plot types invented in the 20th century that has found widespread adoption\"."
   ]
  },
  {
   "cell_type": "code",
   "execution_count": null,
   "metadata": {},
   "outputs": [],
   "source": [
    "import pandas as pd\n",
    "import numpy as np\n",
    "import seaborn as sns\n",
    "pd.read_csv(\"http://cli.fusio.net/cli/climate_data/webdata/StationDetails.csv\")"
   ]
  },
  {
   "cell_type": "code",
   "execution_count": null,
   "metadata": {},
   "outputs": [],
   "source": []
  }
 ],
 "metadata": {
  "kernelspec": {
   "display_name": "Python 3",
   "language": "python",
   "name": "python3"
  },
  "language_info": {
   "codemirror_mode": {
    "name": "ipython",
    "version": 3
   },
   "file_extension": ".py",
   "mimetype": "text/x-python",
   "name": "python",
   "nbconvert_exporter": "python",
   "pygments_lexer": "ipython3",
   "version": "3.6.6"
  }
 },
 "nbformat": 4,
 "nbformat_minor": 2
}

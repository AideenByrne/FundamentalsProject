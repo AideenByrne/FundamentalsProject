{
 "cells": [
  {
   "cell_type": "markdown",
   "metadata": {},
   "source": [
    "## Investigating the box plot"
   ]
  },
  {
   "cell_type": "markdown",
   "metadata": {},
   "source": [
    "The box plot was invented by the American mathematician [John W. Tukey](https://en.wikipedia.org/wiki/John_Tukey) in 1970 and can also be referred to as the box-and-whisker plot.  It is a type of graph that is used to display patterns in numerical datasets by basing them on a five number summary, or range, which consists of terms named [minimum, first quartile, median, third quartile, and maximum](http://www.physics.csbsju.edu/stats/box2.html) and is so called because of the box shape it is presented in. \n",
    "\n",
    "An example of a box plot is pictured below:\n",
    "\n",
    "![seaborn-boxplot-2.png](https://raw.githubusercontent.com/AideenByrne/FundamentalsProject/master/img/seaborn-boxplot-2.png)\n",
    "*Image credit https://seaborn.pydata.org/generated/seaborn.boxplot.html*\n",
    "\n",
    "\n",
    "A box plot can summarise [data from multiple sources and display the results in a single graph](http://asq.org/learn-about-quality/data-collection-analysis-tools/overview/box-whisker-plot.html), which can be particularly helpful if you have multiple data sets from independent sources that relate to each other in some way. [The Seaborn tutorial](https://seaborn.pydata.org/tutorial/categorical.html#categorical-tutorial) describes the box plot as a \"categorical distribution plot\" which refers to it's function of providing information about the distribution of values of each category it visualises.  \n",
    "It can also be [particularly useful for displaying skewed data](https://www.dummies.com/education/math/statistics/what-a-boxplot-can-tell-you-about-a-statistical-data-set/), that is, data that is lopsided in its representation in a box plot, as the median slices the box into 2 uneven pieces, depicting the lack of symmetry in the distribution of the data. \n",
    "\n",
    "Box plots are based on [quartiles](https://en.wikipedia.org/wiki/Quartile) which are three summary measures based on percentages of the sample size, that divide a rank-ordered data set into four equal parts:\n",
    "\n",
    "The minimum to the first quartile.\n",
    "The first quartile is the middle value of all the data points below the median (median being the the value separating the higher half from the lower half of the data set).  \n",
    "The second quartile is the median of the data set.  \n",
    "The third quartile is the middle value of all the data points above the median.\n",
    "\n",
    "[Each section of the boxplot (the minimum to Q1, Q1 to the median, the median to Q3, and Q3 to the maximum) contains 25% of the data](https://www.dummies.com/education/math/statistics/what-a-boxplot-can-tell-you-about-a-statistical-data-set/) as per the below image:\n",
    "\n",
    "![quartiles.png](https://raw.githubusercontent.com/AideenByrne/FundamentalsProject/master/img/quartiles.png)\n",
    "*Image credit https://www.onlinemathlearning.com/quartile.html* \n",
    "\n",
    "[The Interquartile Range (IQR)](https://en.wikipedia.org/wiki/Interquartile_range) is the difference between the third and first quartiles, which describes the middle 50% of the distribution of the data set, as the below image demonstrates: \n",
    "\n",
    "![IQR](https://raw.githubusercontent.com/AideenByrne/FundamentalsProject/master/img/800px-Boxplot_vs_PDF.svg.png)\n",
    "*Image credit https://en.wikipedia.org/wiki/Interquartile_range#/media/File:Boxplot_vs_PDF.svg*\n",
    "\n",
    "In order to graph a box plot, I decided to synthesise some numerical data, (consisting of 5 arrays of 10 integers between 1 and 20) using Numpy's [numpy.random package](https://docs.scipy.org/doc/numpy-1.13.0/reference/routines.random.html) within a [Pandas dataframe](https://pandas.pydata.org/pandas-docs/version/0.23.4/generated/pandas.DataFrame.html), and to then use [Seaborn](https://seaborn.pydata.org/) to chart a box plot to display and compare the data. For this, I chose to fix the seed of Numpy's random generator, for consistency and reproducibility. "
   ]
  },
  {
   "cell_type": "code",
   "execution_count": 1,
   "metadata": {},
   "outputs": [
    {
     "name": "stdout",
     "output_type": "stream",
     "text": [
      "    0   1   2   3   4\n",
      "0  13  14   7   3   3\n",
      "1   4  18   5  11  19\n",
      "2  12   9   6  12   4\n",
      "3   6  17  10  20   4\n",
      "4  19   2   1  20   1\n",
      "5   6   1  18   7  20\n",
      "6   3  11  11  12  16\n",
      "7  10   8   4   7  11\n",
      "8  11   4  16   8  15\n",
      "9  20  17  11   2   6\n"
     ]
    }
   ],
   "source": [
    "import pandas as pd #imports pandas library \n",
    "import numpy as np #imports numpy package\n",
    "import seaborn as sns #imports seaborn library \n",
    "import matplotlib.pyplot as plt #imports matplotlib for data plotting\n",
    "np.random.seed(19680801)#fixing seed for reproducibility as per https://matplotlib.org/gallery/pyplots/boxplot_demo_pyplot.html#sphx-glr-gallery-pyplots-boxplot-demo-pyplot-py\n",
    "df = pd.DataFrame(np.random.randint(1,21, size=(10,5)))#to create a dataframe of 5 arrays of 10 randomly generated integers between 1 and 20\n",
    "print(df)"
   ]
  },
  {
   "cell_type": "code",
   "execution_count": 2,
   "metadata": {},
   "outputs": [
    {
     "data": {
      "text/plain": [
       "<matplotlib.axes._subplots.AxesSubplot at 0x1ab93c172e8>"
      ]
     },
     "execution_count": 2,
     "metadata": {},
     "output_type": "execute_result"
    },
    {
     "data": {
      "image/png": "[encoded data removed]",
      "text/plain": [
       "<Figure size 432x288 with 1 Axes>"
      ]
     },
     "metadata": {
      "needs_background": "light"
     },
     "output_type": "display_data"
    }
   ],
   "source": [
    "sns.boxplot(data=df)#to plot the boxplot based on the dataframe generated above"
   ]
  },
  {
   "cell_type": "markdown",
   "metadata": {},
   "source": [
    "The x axis that the above plot shows represents the 5 columns of the array, indexed from 0 to 4, while the y axis tracks the range that the numbers have been generated within (i.e. 0 to 20).  The whiskers that appear on the graph tell us the spread of the points in the data set. \n",
    "From looking at the boxes that the plot has generated it is possible to determine that for the first column, the box is sectioned in such a way that indicates a wider spread of values of the data set below the median value of 10 - the shorter piece of the box represents the data being more condensed above the median value.  It is important to note that the size of the box does not depict size in terms of number of values as each [quartile is equal to 25% of the sample size](https://www.dummies.com/education/math/statistics/what-a-boxplot-can-tell-you-about-a-statistical-data-set/). \n",
    "The second box depicts that the data from the second column are equally distributed across the applicable range.\n",
    "The third box shows that similiar to the first box, the majority of data are distributed from the range below the median. \n",
    "The fourth box has no top whisker as the top line of the box represents the maximum value within the quartile (which is 12 according to the fourth column of the data set) and the dot on the line at 20 represents the outliers in the data set. \n",
    "The fifth box in the graph depicts the distribution of variables drawn from above the median being wider than that below 10.  \n",
    "\n",
    "To see this on a larger scale, I decided to generate another array of random numbers, this time with a wider numerical spread."
   ]
  },
  {
   "cell_type": "code",
   "execution_count": 4,
   "metadata": {},
   "outputs": [
    {
     "name": "stdout",
     "output_type": "stream",
     "text": [
      "      0    1    2     3    4\n",
      "0   405  365  725   110  957\n",
      "1     7  675  931   280   68\n",
      "2   690   37  235   787  332\n",
      "3   713  166  140   452  507\n",
      "4   582   49  572   842  628\n",
      "5   900  895  179   290   97\n",
      "6   884  569   96   641  448\n",
      "7   347  742  513   274  792\n",
      "8   922  793  711   189  408\n",
      "9   825  916  957   611  331\n",
      "10  427  972  816    74  488\n",
      "11  516  729  551   939  637\n",
      "12  139  548  624   328  607\n",
      "13  239   52  639    94  344\n",
      "14  593  875  218   994  767\n",
      "15  390  519  930   409  288\n",
      "16  393  131  481    29  434\n",
      "17  322  198  109   921   58\n",
      "18  632  575  640   587  769\n",
      "19  832  409  205   110  518\n",
      "20  123  603  277    53  794\n",
      "21  253  639  664   120  620\n",
      "22  375  392  659   320  641\n",
      "23  487  575  577    57  134\n",
      "24  275  978  852   466  833\n",
      "25  618   36  126   138  845\n",
      "26  166  450  252   622   37\n",
      "27  495  641  713   310  791\n",
      "28  993  972  346   879  681\n",
      "29  386  753  733    84  830\n",
      "30   46  385  291   718  438\n",
      "31  194  878  133   396  276\n",
      "32  776  592  403   748  886\n",
      "33  575  168  925   496  818\n",
      "34  166  393  311   793   50\n",
      "35   19   41  805    75  610\n",
      "36  254  662  985   324  148\n",
      "37  716  160  863   174  869\n",
      "38  119  482  383   382  526\n",
      "39  747  223    6   315   85\n",
      "40  422   75  704   849  537\n",
      "41  754   59  202   576  863\n",
      "42  514   66   44   676  269\n",
      "43  717    2  228   476  896\n",
      "44  639  640  876  1000   84\n",
      "45  737  145  744   653  735\n",
      "46  327  304  109   330  699\n",
      "47  801  723  775   950   96\n",
      "48  459   73  850   454  488\n",
      "49  414  967  730   336  688\n"
     ]
    }
   ],
   "source": [
    "np.random.seed(19680801)#fixing seed for reproducibility as per https://matplotlib.org/gallery/pyplots/boxplot_demo_pyplot.html#sphx-glr-gallery-pyplots-boxplot-demo-pyplot-py\n",
    "df1 = pd.DataFrame(np.random.randint(1,1001, size=(50,5)))#to create a dataframe of 5 arrays of 50 randomly generated integers between 1 and 1000\n",
    "print(df1)"
   ]
  },
  {
   "cell_type": "code",
   "execution_count": 6,
   "metadata": {},
   "outputs": [
    {
     "data": {
      "text/plain": [
       "<matplotlib.axes._subplots.AxesSubplot at 0x1ab94f7efd0>"
      ]
     },
     "execution_count": 6,
     "metadata": {},
     "output_type": "execute_result"
    },
    {
     "data": {
      "image/png": "[encoded data removed]",
      "text/plain": [
       "<Figure size 432x288 with 1 Axes>"
      ]
     },
     "metadata": {
      "needs_background": "light"
     },
     "output_type": "display_data"
    }
   ],
   "source": [
    "sns.boxplot(data = df1)"
   ]
  },
  {
   "cell_type": "markdown",
   "metadata": {},
   "source": [
    "From reading blogs and articles online about the box plot I learned that it is a \n",
    "\n",
    "\n",
    "[This paper](http://vita.had.co.nz/papers/boxplots.pdf), which charts the evolution of the box plot over 40 years since Tukey developed it, details how it has \"become one of the most frequently used statistical graphics,and is one of the few plot types invented in the 20th century that has found widespread adoption\"."
   ]
  }
 ],
 "metadata": {
  "kernelspec": {
   "display_name": "Python 3",
   "language": "python",
   "name": "python3"
  },
  "language_info": {
   "codemirror_mode": {
    "name": "ipython",
    "version": 3
   },
   "file_extension": ".py",
   "mimetype": "text/x-python",
   "name": "python",
   "nbconvert_exporter": "python",
   "pygments_lexer": "ipython3",
   "version": "3.6.6"
  }
 },
 "nbformat": 4,
 "nbformat_minor": 2
}

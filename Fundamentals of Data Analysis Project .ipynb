{
 "cells": [
  {
   "cell_type": "markdown",
   "metadata": {},
   "source": [
    "## Investigating the box plot"
   ]
  },
  {
   "cell_type": "markdown",
   "metadata": {},
   "source": [
    "The box plot was invented by the American mathematician [John W. Tukey](https://en.wikipedia.org/wiki/John_Tukey) in 1970 and can also be referred to as the box-and-whisker plot.  It is a type of graph that is used to display patterns in numerical datasets by basing them on a five number summary, or range, which consists of terms named [minimum, first quartile, median, third quartile, and maximum](http://www.physics.csbsju.edu/stats/box2.html) and is so called because of the box shape it is presented in. \n",
    "\n",
    "An example of a box plot is pictured below:\n",
    "\n",
    "![seaborn-boxplot-2.png](https://raw.githubusercontent.com/AideenByrne/FundamentalsProject/master/img/seaborn-boxplot-2.png)\n",
    "*Image credit https://seaborn.pydata.org/generated/seaborn.boxplot.html*\n",
    "\n",
    "\n",
    "A box plot can summarise [data from multiple sources and display the results in a single graph](http://asq.org/learn-about-quality/data-collection-analysis-tools/overview/box-whisker-plot.html), which can be particularly helpful if you have multiple data sets from independent sources that relate to each other in some way. [The Seaborn tutorial](https://seaborn.pydata.org/tutorial/categorical.html#categorical-tutorial) describes the box plot as a \"categorical distribution plot\" which refers to it's function of providing information about the distribution of values of each category it visualises. I take this to mean that the box plot summarises the spread of a data set, rather than counting it's values as a histogram would, or comparing data points against each other as a scatterplot might.\n",
    "A box plot can also be [particularly useful for displaying skewed data](https://www.dummies.com/education/math/statistics/what-a-boxplot-can-tell-you-about-a-statistical-data-set/), that is, data that is lopsided in its graphical representation, as the median can slice the box into 2 uneven pieces, depicting the lack of symmetry in the distribution of the data. \n",
    "\n",
    "Box plots are based on [quartiles](https://en.wikipedia.org/wiki/Quartile) which are three summary measures based on percentages of the sample size, that divide a rank-ordered data set into four equal parts:\n",
    "\n",
    "The minimum to the first quartile.\n",
    "The first quartile is the middle value of all the data points below the median (median being the the value separating the higher half from the lower half of the data set).  \n",
    "The second quartile is the median of the data set.  \n",
    "The third quartile is the middle value of all the data points above the median.\n",
    "\n",
    "[Each section of the boxplot (the minimum to Q1, Q1 to the median, the median to Q3, and Q3 to the maximum) contains 25% of the data](https://www.dummies.com/education/math/statistics/what-a-boxplot-can-tell-you-about-a-statistical-data-set/) as per the below image:\n",
    "\n",
    "![quartiles.png](https://raw.githubusercontent.com/AideenByrne/FundamentalsProject/master/img/quartiles.png)\n",
    "*Image credit https://www.onlinemathlearning.com/quartile.html* \n",
    "\n",
    "[The Interquartile Range (IQR)](https://en.wikipedia.org/wiki/Interquartile_range) is the difference between the third and first quartiles, which describes the middle 50% of the distribution of the data set, as the below image demonstrates: \n",
    "\n",
    "![IQR](https://raw.githubusercontent.com/AideenByrne/FundamentalsProject/master/img/800px-Boxplot_vs_PDF.svg.png)\n",
    "*Image credit https://en.wikipedia.org/wiki/Interquartile_range#/media/File:Boxplot_vs_PDF.svg*\n",
    "\n",
    "In order to graph a box plot, I decided to synthesise some numerical data, (consisting of 5 arrays of 10 integers between 1 and 20) using Numpy's [numpy.random package](https://docs.scipy.org/doc/numpy-1.13.0/reference/routines.random.html) within a [Pandas dataframe](https://pandas.pydata.org/pandas-docs/version/0.23.4/generated/pandas.DataFrame.html), and to then use [Seaborn](https://seaborn.pydata.org/) to chart a box plot to display and compare the data. For this, I chose to fix the seed of Numpy's random generator, for consistency and reproducibility. "
   ]
  },
  {
   "cell_type": "code",
   "execution_count": 1,
   "metadata": {},
   "outputs": [
    {
     "name": "stdout",
     "output_type": "stream",
     "text": [
      "    0   1   2   3   4\n",
      "0  13  14   7   3   3\n",
      "1   4  18   5  11  19\n",
      "2  12   9   6  12   4\n",
      "3   6  17  10  20   4\n",
      "4  19   2   1  20   1\n",
      "5   6   1  18   7  20\n",
      "6   3  11  11  12  16\n",
      "7  10   8   4   7  11\n",
      "8  11   4  16   8  15\n",
      "9  20  17  11   2   6\n"
     ]
    }
   ],
   "source": [
    "import pandas as pd #imports pandas library \n",
    "import numpy as np #imports numpy package\n",
    "import seaborn as sns #imports seaborn library \n",
    "import matplotlib.pyplot as plt #imports matplotlib for data plotting\n",
    "np.random.seed(19680801)#fixing seed for reproducibility as per https://matplotlib.org/gallery/pyplots/boxplot_demo_pyplot.html#sphx-glr-gallery-pyplots-boxplot-demo-pyplot-py\n",
    "df = pd.DataFrame(np.random.randint(1,21, size=(10,5)))#to create a dataframe of 5 arrays of 10 randomly generated integers between 1 and 20\n",
    "print(df)"
   ]
  },
  {
   "cell_type": "code",
   "execution_count": 2,
   "metadata": {},
   "outputs": [
    {
     "data": {
      "text/plain": [
       "<matplotlib.axes._subplots.AxesSubplot at 0x1e893f78320>"
      ]
     },
     "execution_count": 2,
     "metadata": {},
     "output_type": "execute_result"
    },
    {
     "data": {
      "image/png": "[encoded data removed]",
      "text/plain": [
       "<Figure size 432x288 with 1 Axes>"
      ]
     },
     "metadata": {
      "needs_background": "light"
     },
     "output_type": "display_data"
    }
   ],
   "source": [
    "sns.boxplot(data=df)#to plot the boxplot based on the dataframe generated above"
   ]
  },
  {
   "cell_type": "markdown",
   "metadata": {},
   "source": [
    "The x axis that the above plot shows represents the 5 columns of the array, indexed from 0 to 4, while the y axis tracks the range that the numbers have been generated within (i.e. 0 to 20).  The whiskers that appear on the graph tell us the spread of the points in the data set, covering the range of the minimum value to the maximum value, but also representing the lower and upper quartiles, with the box between them maps the interquartile range.  \n",
    "\n",
    "From looking at the boxes that the plot has generated it is possible to determine that for the first column, the box is sectioned in such a way that indicates a wider spread of values of the data set below the median value of 10 - the shorter piece of the box represents the data being more condensed above the median value.  It is important to note that the size of the box does not depict size in terms of number of values as each [quartile is equal to 25% of the sample size](https://www.dummies.com/education/math/statistics/what-a-boxplot-can-tell-you-about-a-statistical-data-set/). \n",
    "\n",
    "The second box depicts that the data from the second column are equally distributed across the applicable range.\n",
    "\n",
    "The third box shows that similiar to the first box, the majority of data are distributed from the range below the median. \n",
    "\n",
    "The fourth box has no top whisker as the top line of the box represents the maximum value within the quartile (which is 12 according to the fourth column of the data set) and the dot on the line at 20 represents the outliers in the data set. \n",
    "\n",
    "The fifth box in the graph depicts the distribution of variables drawn from above the median being wider than that below 10.  \n",
    "\n",
    "To see this on a larger scale, I decided to generate another array of random numbers, this time with a wider numerical spread."
   ]
  },
  {
   "cell_type": "code",
   "execution_count": 3,
   "metadata": {},
   "outputs": [
    {
     "name": "stdout",
     "output_type": "stream",
     "text": [
      "       0     1     2     3     4\n",
      "0   1429  1389  6254  8191  9149\n",
      "1   8867  9123  5400  7236  2283\n",
      "2   2835  7500  7881   166  5260\n",
      "3   2555  8774  7217  1596  9395\n",
      "4   5410  2145  8052  9785    96\n",
      "5   3520  1371  9958  8466  9927\n",
      "6    916  2659  5547  2864  9290\n",
      "7   9732  5849   637  3211  3620\n",
      "8    624  8520  8799  3311  1663\n",
      "9   1118   344  8785  2923  9434\n",
      "10  8162  8098  9504  1417  8323\n",
      "11  1053  6202  7755  8961  8000\n",
      "12  6349  8302  2566  1301  6197\n",
      "13  4349   664  7788  7543  1416\n",
      "14  8767  8769  8146  9682   833\n",
      "15   618  9252   138  2893  6310\n",
      "16  5570  6766  6181   495  5761\n",
      "17  8905  1815  6113  6092  4975\n",
      "18   830  5166  5505  7606  4290\n",
      "19   878  1300  7944  4499  3958\n",
      "20  6045  7334  2441   311  2841\n",
      "21  7218  1043  7209    75  9826\n",
      "22  5374  5782  7129  4420  1172\n",
      "23  5836  9390  3191  5646  9963\n",
      "24  4102   315  2133  5824   537\n",
      "25  7922  5179  3274  1887  1538\n",
      "26  1090  6188   676  1026  2276\n",
      "27  4735  1664  3054  7020  7144\n",
      "28  3809  4840  3399  5424  7498\n",
      "29  5921  2823  2144  3145  5970\n",
      "30   414  1360  6319  7950  6538\n",
      "31  3230  2919   635  9321  5850\n",
      "32  4400  7364  3313  7131  6793\n",
      "33  9799  6596  8800  1665  3451\n",
      "34  6184  9793  6622  1018  6672\n",
      "35  8565  9478   676   949   851\n",
      "36  6165  7817  2486  5720  9695\n",
      "37  2864  6742  9184  4899  1325\n",
      "38  3195  4059  9776  3138  9671\n",
      "39  7180  3008  5219  5989  3202\n",
      "40  1233  2217  8332  7296   586\n",
      "41  6090  1620  5416  2308  9633\n",
      "42  7430  4071  1608  8746  3330\n",
      "43  5085  8885  4581  8072  9573\n",
      "44  6298  5594  6412  2341  9502\n",
      "45  3676  6584  4871  4056  9654\n",
      "46  3968  8008  3292  5718  3604\n",
      "47  6392  9371  9434  8662   203\n",
      "48  5322   191  9687  5626  4480\n",
      "49  4313   524  2563  6261  9756\n"
     ]
    }
   ],
   "source": [
    "np.random.seed(19680801)#fixing seed for reproducibility as per https://matplotlib.org/gallery/pyplots/boxplot_demo_pyplot.html#sphx-glr-gallery-pyplots-boxplot-demo-pyplot-py\n",
    "df1 = pd.DataFrame(np.random.randint(1,10001, size=(50,5)))#to create a dataframe of 5 arrays of 50 randomly generated integers between 1 and 10000\n",
    "print(df1)"
   ]
  },
  {
   "cell_type": "code",
   "execution_count": 5,
   "metadata": {},
   "outputs": [
    {
     "data": {
      "text/plain": [
       "<matplotlib.axes._subplots.AxesSubplot at 0x1e89531fa20>"
      ]
     },
     "execution_count": 5,
     "metadata": {},
     "output_type": "execute_result"
    },
    {
     "data": {
      "image/png": "[encoded data removed]",
      "text/plain": [
       "<Figure size 432x288 with 1 Axes>"
      ]
     },
     "metadata": {
      "needs_background": "light"
     },
     "output_type": "display_data"
    }
   ],
   "source": [
    "sns.boxplot(data = df1)"
   ]
  },
  {
   "cell_type": "markdown",
   "metadata": {},
   "source": [
    "From reading blogs and articles online about the box plot I learned that it is a \n",
    "\n",
    "\n",
    "[This paper](http://vita.had.co.nz/papers/boxplots.pdf), which charts the evolution of the box plot over 40 years since Tukey developed it, details how it has \"become one of the most frequently used statistical graphics,and is one of the few plot types invented in the 20th century that has found widespread adoption\"."
   ]
  }
 ],
 "metadata": {
  "kernelspec": {
   "display_name": "Python 3",
   "language": "python",
   "name": "python3"
  },
  "language_info": {
   "codemirror_mode": {
    "name": "ipython",
    "version": 3
   },
   "file_extension": ".py",
   "mimetype": "text/x-python",
   "name": "python",
   "nbconvert_exporter": "python",
   "pygments_lexer": "ipython3",
   "version": "3.6.6"
  }
 },
 "nbformat": 4,
 "nbformat_minor": 2
}

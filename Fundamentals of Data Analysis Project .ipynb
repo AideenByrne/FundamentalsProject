{
 "cells": [
  {
   "cell_type": "markdown",
   "metadata": {},
   "source": [
    "## Investigating the box plot"
   ]
  },
  {
   "cell_type": "markdown",
   "metadata": {},
   "source": [
    "A box plot is a type of graph that is used to display patterns in numerical datasets by basing them on a five number summary -\n",
    "[minimum, first quartile, median, third quartile, and maximum](http://www.physics.csbsju.edu/stats/box2.html). It was invented by the American mathematician [John W. Tukey](https://en.wikipedia.org/wiki/John_Tukey)and is also known as the box and whisker plot."
   ]
  }
 ],
 "metadata": {
  "kernelspec": {
   "display_name": "Python 3",
   "language": "python",
   "name": "python3"
  },
  "language_info": {
   "codemirror_mode": {
    "name": "ipython",
    "version": 3
   },
   "file_extension": ".py",
   "mimetype": "text/x-python",
   "name": "python",
   "nbconvert_exporter": "python",
   "pygments_lexer": "ipython3",
   "version": "3.6.6"
  }
 },
 "nbformat": 4,
 "nbformat_minor": 2
}

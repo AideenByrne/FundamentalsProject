{
 "cells": [
  {
   "cell_type": "markdown",
   "metadata": {},
   "source": [
    "## Investigating the box plot"
   ]
  },
  {
   "cell_type": "markdown",
   "metadata": {},
   "source": [
    "The box plot was invented by the American mathematician [John W. Tukey](https://en.wikipedia.org/wiki/John_Tukey) and can also be referred to as the box-and-whisker plot.  It is a type of graph that is used to display patterns in numerical datasets by basing them on a five number summary, or range, - [minimum, first quartile, median, third quartile, and maximum](http://www.physics.csbsju.edu/stats/box2.html) and is so called because of the box shape it is displayed in. \n",
    "\n",
    "An example of a box plot is pictured below:\n",
    "\n",
    "![seaborn-boxplot-2.png](https://raw.githubusercontent.com/AideenByrne/FundamentalsProject/master/img/seaborn-boxplot-2.png)\n",
    "*Image credit https://seaborn.pydata.org/generated/seaborn.boxplot.html*\n",
    "\n",
    "Box plots can summarise [data from multiple sources and display the results in a single graph](http://asq.org/learn-about-quality/data-collection-analysis-tools/overview/box-whisker-plot.html), which can be particularly useful when you have multiple data sets from independent sources that relate to each other in some way. [The Seaborn tutorial](https://seaborn.pydata.org/tutorial/categorical.html#categorical-tutorial) describes the box plot as a \"categorical distribution plot\" which refers to it's function of providing information about the distribution of values of each category it visualises.  [This paper](http://vita.had.co.nz/papers/boxplots.pdf), which charts the evolution of the box plot over 40 years since Tukey developed it, details how it has \"become one of the most frequently used statistical graphics,and is one of the few plot types invented in the 20th century that has found widespread adoption\".\n",
    "\n",
    "Box plots are based on [quartiles](https://en.wikipedia.org/wiki/Quartile) which are three summary measures that divide a rank-ordered data set into four equal parts:\n",
    "\n",
    "The first quartile is the middle value of all the data points below the median (median being the the value separating the higher half from the lower half of the data set).  \n",
    "The second quartile is the median of the data set.  \n",
    "The third quartile is the middle value of all the data points above the median.\n",
    "\n",
    "[The Interquartile Range (IQR)](https://en.wikipedia.org/wiki/Interquartile_range) is the difference between the third and first quartiles, which describes the middle 50% of the distribution of the data set, as the below image demonstrates: \n",
    "\n",
    "![IQR](https://raw.githubusercontent.com/AideenByrne/FundamentalsProject/master/img/250px-Boxplot_vs_PDF.png)\n",
    "*Image credit https://en.wikipedia.org/wiki/Interquartile_range#/media/File:Boxplot_vs_PDF.svg*\n"
   ]
  },
  {
   "cell_type": "code",
   "execution_count": 73,
   "metadata": {},
   "outputs": [
    {
     "name": "stdout",
     "output_type": "stream",
     "text": [
      "    0   1   2   3   4\n",
      "0  13  14   7   3   3\n",
      "1   4  18   5  11  19\n",
      "2  12   9   6  12   4\n",
      "3   6  17  10  20   4\n",
      "4  19   2   1  20   1\n",
      "5   6   1  18   7  20\n",
      "6   3  11  11  12  16\n",
      "7  10   8   4   7  11\n",
      "8  11   4  16   8  15\n",
      "9  20  17  11   2   6\n"
     ]
    }
   ],
   "source": [
    "import pandas as pd #imports pandas library \n",
    "import numpy as np #imports numpy package\n",
    "import seaborn as sns #imports seaborn library \n",
    "import matplotlib.pyplot as plt #imports matplotlib for data plotting\n",
    "np.random.seed(19680801)#fixing seed for reproducibility as per https://matplotlib.org/gallery/pyplots/boxplot_demo_pyplot.html#sphx-glr-gallery-pyplots-boxplot-demo-pyplot-py\n",
    "df = pd.DataFrame(np.random.randint(1,21, size=(10,5)))\n",
    "print(df)"
   ]
  },
  {
   "cell_type": "code",
   "execution_count": 74,
   "metadata": {},
   "outputs": [
    {
     "data": {
      "text/plain": [
       "<matplotlib.axes._subplots.AxesSubplot at 0x1e976453e10>"
      ]
     },
     "execution_count": 74,
     "metadata": {},
     "output_type": "execute_result"
    },
    {
     "data": {
      "image/png": "[encoded data removed]",
      "text/plain": [
       "<Figure size 432x288 with 1 Axes>"
      ]
     },
     "metadata": {},
     "output_type": "display_data"
    }
   ],
   "source": [
    "sns.boxplot(data=df)"
   ]
  },
  {
   "cell_type": "code",
   "execution_count": null,
   "metadata": {},
   "outputs": [],
   "source": []
  },
  {
   "cell_type": "code",
   "execution_count": null,
   "metadata": {},
   "outputs": [],
   "source": []
  }
 ],
 "metadata": {
  "kernelspec": {
   "display_name": "Python 3",
   "language": "python",
   "name": "python3"
  },
  "language_info": {
   "codemirror_mode": {
    "name": "ipython",
    "version": 3
   },
   "file_extension": ".py",
   "mimetype": "text/x-python",
   "name": "python",
   "nbconvert_exporter": "python",
   "pygments_lexer": "ipython3",
   "version": "3.6.6"
  }
 },
 "nbformat": 4,
 "nbformat_minor": 2
}

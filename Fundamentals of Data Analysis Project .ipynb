{
 "cells": [
  {
   "cell_type": "markdown",
   "metadata": {},
   "source": [
    "## Investigating the box plot"
   ]
  },
  {
   "cell_type": "markdown",
   "metadata": {},
   "source": [
    "The box plot was invented by the American mathematician [John W. Tukey](https://en.wikipedia.org/wiki/John_Tukey) and can also be referred to as the box-and-whisker plot.  It is a type of graph that is used to display patterns in numerical datasets by basing them on a five number summary, or range, - [minimum, first quartile, median, third quartile, and maximum](http://www.physics.csbsju.edu/stats/box2.html) and is so called because of the box shape it is displayed in. \n",
    "\n",
    "An example of a box plot is pictured below:\n",
    "\n",
    "![seaborn-boxplot-2.png](https://raw.githubusercontent.com/AideenByrne/FundamentalsProject/master/img/seaborn-boxplot-2.png)\n",
    "*Image credit https://seaborn.pydata.org/generated/seaborn.boxplot.html*\n",
    "\n",
    "Box plots can summarise [data from multiple sources and display the results in a single graph](http://asq.org/learn-about-quality/data-collection-analysis-tools/overview/box-whisker-plot.html), which can be particularly useful when you have multiple data sets from independent sources that relate to each other in some way. [The Seaborn tutorial](https://seaborn.pydata.org/tutorial/categorical.html#categorical-tutorial) describes the box plot as a \"categorical distribution plot\" which refers to it's function of providing information about the distribution of values of each category it visualises.  [This paper](http://vita.had.co.nz/papers/boxplots.pdf), which charts the evolution of the box plot over 40 years since Tukey developed it, details how it has \"become one of the most frequently used statistical graphics,and is one of the few plot types invented in the 20th century that has found widespread adoption\".\n",
    "\n",
    "Box plots are based on [quartiles](https://en.wikipedia.org/wiki/Quartile) which are three summary measures that divide a rank-ordered data set into four equal parts:\n",
    "\n",
    "The first quartile is the middle value of all the data points below the median (median being the the value separating the higher half from the lower half of the data set).  \n",
    "The second quartile is the median of the data set.  \n",
    "The third quartile is the middle value of all the data points above the median.\n",
    "\n",
    "[The Interquartile Range (IQR)](https://en.wikipedia.org/wiki/Interquartile_range) is the difference between the third and first quartiles, which describes the middle 50% of the distribution of the data set, as the below image demonstrates: \n",
    "\n",
    "![IQR](      )\n",
    "\n"
   ]
  },
  {
   "cell_type": "code",
   "execution_count": 2,
   "metadata": {},
   "outputs": [
    {
     "data": {
      "text/html": [
       "<div>\n",
       "<style scoped>\n",
       "    .dataframe tbody tr th:only-of-type {\n",
       "        vertical-align: middle;\n",
       "    }\n",
       "\n",
       "    .dataframe tbody tr th {\n",
       "        vertical-align: top;\n",
       "    }\n",
       "\n",
       "    .dataframe thead th {\n",
       "        text-align: right;\n",
       "    }\n",
       "</style>\n",
       "<table border=\"1\" class=\"dataframe\">\n",
       "  <thead>\n",
       "    <tr style=\"text-align: right;\">\n",
       "      <th></th>\n",
       "      <th>DTIMS_Chain</th>\n",
       "      <th>SU</th>\n",
       "      <th>CSC</th>\n",
       "      <th>ITM_E</th>\n",
       "      <th>ITM_N</th>\n",
       "    </tr>\n",
       "  </thead>\n",
       "  <tbody>\n",
       "    <tr>\n",
       "      <th>count</th>\n",
       "      <td>52753.000000</td>\n",
       "      <td>52753.000000</td>\n",
       "      <td>52706.000000</td>\n",
       "      <td>52724.000000</td>\n",
       "      <td>52724.000000</td>\n",
       "    </tr>\n",
       "    <tr>\n",
       "      <th>mean</th>\n",
       "      <td>11.539031</td>\n",
       "      <td>115.444619</td>\n",
       "      <td>0.482584</td>\n",
       "      <td>591684.668812</td>\n",
       "      <td>710407.766103</td>\n",
       "    </tr>\n",
       "    <tr>\n",
       "      <th>std</th>\n",
       "      <td>7.946781</td>\n",
       "      <td>79.469718</td>\n",
       "      <td>0.069700</td>\n",
       "      <td>69600.743215</td>\n",
       "      <td>91381.875036</td>\n",
       "    </tr>\n",
       "    <tr>\n",
       "      <th>min</th>\n",
       "      <td>0.010000</td>\n",
       "      <td>1.000000</td>\n",
       "      <td>0.160000</td>\n",
       "      <td>444412.700000</td>\n",
       "      <td>533021.300000</td>\n",
       "    </tr>\n",
       "    <tr>\n",
       "      <th>25%</th>\n",
       "      <td>4.791000</td>\n",
       "      <td>48.000000</td>\n",
       "      <td>0.430000</td>\n",
       "      <td>537252.600000</td>\n",
       "      <td>633952.450000</td>\n",
       "    </tr>\n",
       "    <tr>\n",
       "      <th>50%</th>\n",
       "      <td>10.396000</td>\n",
       "      <td>104.000000</td>\n",
       "      <td>0.480000</td>\n",
       "      <td>588168.712150</td>\n",
       "      <td>712371.750000</td>\n",
       "    </tr>\n",
       "    <tr>\n",
       "      <th>75%</th>\n",
       "      <td>17.199000</td>\n",
       "      <td>172.000000</td>\n",
       "      <td>0.530000</td>\n",
       "      <td>647862.475000</td>\n",
       "      <td>776931.500000</td>\n",
       "    </tr>\n",
       "    <tr>\n",
       "      <th>max</th>\n",
       "      <td>35.264000</td>\n",
       "      <td>353.000000</td>\n",
       "      <td>0.900000</td>\n",
       "      <td>728224.100000</td>\n",
       "      <td>937353.600000</td>\n",
       "    </tr>\n",
       "  </tbody>\n",
       "</table>\n",
       "</div>"
      ],
      "text/plain": [
       "        DTIMS_Chain            SU           CSC          ITM_E          ITM_N\n",
       "count  52753.000000  52753.000000  52706.000000   52724.000000   52724.000000\n",
       "mean      11.539031    115.444619      0.482584  591684.668812  710407.766103\n",
       "std        7.946781     79.469718      0.069700   69600.743215   91381.875036\n",
       "min        0.010000      1.000000      0.160000  444412.700000  533021.300000\n",
       "25%        4.791000     48.000000      0.430000  537252.600000  633952.450000\n",
       "50%       10.396000    104.000000      0.480000  588168.712150  712371.750000\n",
       "75%       17.199000    172.000000      0.530000  647862.475000  776931.500000\n",
       "max       35.264000    353.000000      0.900000  728224.100000  937353.600000"
      ]
     },
     "execution_count": 2,
     "metadata": {},
     "output_type": "execute_result"
    }
   ],
   "source": [
    "import pandas as pd\n",
    "import numpy as np\n",
    "import seaborn as sns\n",
    "df = pd.read_csv(\"http://data.tii.ie/Datasets/Pavement/Scrim/TII_SCRIM_2017_ML_dTIMS_100m_CSC.csv\")\n",
    "df.describe()"
   ]
  },
  {
   "cell_type": "code",
   "execution_count": null,
   "metadata": {},
   "outputs": [],
   "source": [
    "sns.boxplot(x=\"SU\", y=\"CSC\", hue=\"ITM_E\", data=df)"
   ]
  },
  {
   "cell_type": "code",
   "execution_count": null,
   "metadata": {},
   "outputs": [],
   "source": []
  },
  {
   "cell_type": "code",
   "execution_count": null,
   "metadata": {},
   "outputs": [],
   "source": []
  }
 ],
 "metadata": {
  "kernelspec": {
   "display_name": "Python 3",
   "language": "python",
   "name": "python3"
  },
  "language_info": {
   "codemirror_mode": {
    "name": "ipython",
    "version": 3
   },
   "file_extension": ".py",
   "mimetype": "text/x-python",
   "name": "python",
   "nbconvert_exporter": "python",
   "pygments_lexer": "ipython3",
   "version": "3.6.6"
  }
 },
 "nbformat": 4,
 "nbformat_minor": 2
}
